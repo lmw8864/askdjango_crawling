{
 "cells": [
  {
   "cell_type": "markdown",
   "metadata": {},
   "source": [
    "# 대표적인 크롤링 예시 3가지\n",
    "- [[레벨1] 단순 HTML 크롤링](https://askdjango.github.io/lv1/)\n",
    "- [[레벨2] Ajax 렌더링 크롤링](https://askdjango.github.io/lv2/)\n",
    "- [[레벨3] 자바스크립트 렌더링 크롤링](https://askdjango.github.io/lv3/)"
   ]
  },
  {
   "cell_type": "markdown",
   "metadata": {},
   "source": [
    "## [레벨1] 단순 HTML 크롤링"
   ]
  },
  {
   "cell_type": "code",
   "execution_count": 1,
   "metadata": {},
   "outputs": [
    {
     "name": "stdout",
     "output_type": "stream",
     "text": [
      "개발환경 구축하기 https://nomade.kr/vod/setup/\n",
      "파이썬 차근차근 시작하기 https://nomade.kr/vod/python/\n",
      "크롤링 차근차근 시작하기 https://nomade.kr/vod/crawling/\n",
      "파이썬으로 업무 자동화 https://nomade.kr/vod/automation/\n",
      "장고 - 기본편 https://nomade.kr/vod/django/\n",
      "장고걸스 튜토리얼 https://nomade.kr/vod/djangogirls/\n",
      "장고 - Form/ModelForm 잘 알고 쓰기 https://nomade.kr/vod/form/\n",
      "장고 - 클래스 기반 뷰. 잘 알고 쓰기 https://nomade.kr/vod/cbv/\n",
      "장고 - 결제 시스템 연동 https://nomade.kr/vod/payment/\n",
      "장고 - 웹 프론트엔드 시작편 https://nomade.kr/vod/frontend/\n",
      "장고 - 다양한 위젯 만들기 https://nomade.kr/vod/widgets/\n",
      "장고 - API 서버 만들기 및 초간단 안드로이드 앱 만들기 https://nomade.kr/vod/apiserver/\n",
      "장고 - 하이브리드 앱 만들기 https://nomade.kr/vod/hybrid/\n",
      "장고 - 서비스 배포하기 https://nomade.kr/vod/deploy/\n",
      "장고 - 실전편 (Feat. 배달의 민족 St. 만들기) https://nomade.kr/vod/django-baemin/\n",
      "장고 - 실전편 (Feat. 인스타그램 St. 만들기) https://nomade.kr/vod/django-instagram/\n"
     ]
    }
   ],
   "source": [
    "import requests\n",
    "from bs4 import BeautifulSoup\n",
    "\n",
    "url = 'https://askdjango.github.io/lv1/'\n",
    "html = requests.get(url).text\n",
    "soup = BeautifulSoup(html, \"html.parser\")\n",
    "\n",
    "course_list = soup.select(\"#course_list .course a\")\n",
    "\n",
    "for tag_a in course_list:\n",
    "    print(tag_a.text, tag_a['href'])"
   ]
  },
  {
   "cell_type": "markdown",
   "metadata": {},
   "source": [
    "## [레벨2] Ajax 렌더링 크롤링"
   ]
  },
  {
   "cell_type": "markdown",
   "metadata": {},
   "source": [
    "### 전체 코드"
   ]
  },
  {
   "cell_type": "code",
   "execution_count": 2,
   "metadata": {},
   "outputs": [
    {
     "name": "stdout",
     "output_type": "stream",
     "text": [
      "개발환경 구축하기 https://nomade.kr/vod/setup/\n",
      "파이썬 차근차근 시작하기 https://nomade.kr/vod/python/\n",
      "크롤링 차근차근 시작하기 https://nomade.kr/vod/crawling/\n",
      "파이썬으로 업무 자동화 https://nomade.kr/vod/automation/\n",
      "장고 - 기본편 https://nomade.kr/vod/django/\n",
      "장고걸스 튜토리얼 https://nomade.kr/vod/djangogirls/\n",
      "장고 - Form/ModelForm 잘 알고 쓰기 https://nomade.kr/vod/form/\n",
      "장고 - 클래스 기반 뷰. 잘 알고 쓰기 https://nomade.kr/vod/cbv/\n",
      "장고 - 결제 시스템 연동 https://nomade.kr/vod/payment/\n",
      "장고 - 웹 프론트엔드 시작편 https://nomade.kr/vod/frontend/\n",
      "장고 - 다양한 위젯 만들기 https://nomade.kr/vod/widgets/\n",
      "장고 - API 서버 만들기 및 초간단 안드로이드 앱 만들기 https://nomade.kr/vod/apiserver/\n",
      "장고 - 하이브리드 앱 만들기 https://nomade.kr/vod/hybrid/\n",
      "장고 - 서비스 배포하기 https://nomade.kr/vod/deploy/\n",
      "장고 - 실전편 (Feat. 배달의 민족 St. 만들기) https://nomade.kr/vod/django-baemin/\n",
      "장고 - 실전편 (Feat. 인스타그램 St. 만들기) https://nomade.kr/vod/django-instagram/\n"
     ]
    }
   ],
   "source": [
    "import json\n",
    "import requests\n",
    "\n",
    "data_json_url = 'https://askdjango.github.io/lv2/data.json'\n",
    "json_string = requests.get(data_json_url).text\n",
    "\n",
    "course_list = json.loads(json_string)  # json 문자열을 파이썬 list로 바꿀 수 있다.\n",
    "\n",
    "for course in course_list:\n",
    "#     print(course['name'], course['url'])\n",
    "    print(\"{name} {url}\".format(**course))  # unpacking"
   ]
  },
  {
   "cell_type": "markdown",
   "metadata": {},
   "source": [
    "### 한 단계씩 보기\n",
    "- 페이지 소스 보기 > ul 태그 안이 비어있음.\n",
    "- 개발자 도구 > Network 탭에서 data.json > Headers 및 Response 확인\n",
    "- data.json 마우스 오른쪽 버튼, Open in New Tab"
   ]
  },
  {
   "cell_type": "code",
   "execution_count": 3,
   "metadata": {},
   "outputs": [
    {
     "data": {
      "text/plain": [
       "'[\\n    {\\n        \"name\": \"개발환경 구축하기\",\\n        \"url\": \"https://nomade.kr/vod/setup/\"\\n    },\\n    {\\n        \"name\": \"파이썬 차근차근 시작하기\",\\n        \"url\": \"https://nomade.kr/vod/python/\"\\n    },\\n    {\\n        \"name\": \"크롤링 차근차근 시작하기\",\\n        \"url\": \"https://nomade.kr/vod/crawling/\"\\n    },\\n    {\\n        \"name\": \"파이썬으로 업무 자동화\",\\n        \"url\": \"https://nomade.kr/vod/automation/\"\\n    },\\n    {\\n        \"name\": \"장고 - 기본편\",\\n        \"url\": \"https://nomade.kr/vod/django/\"\\n    },\\n    {\\n        \"name\": \"장고걸스 튜토리얼\",\\n        \"url\": \"https://nomade.kr/vod/djangogirls/\"\\n    },\\n    {\\n        \"name\": \"장고 - Form/ModelForm 잘 알고 쓰기\",\\n        \"url\": \"https://nomade.kr/vod/form/\"\\n    },\\n    {\\n        \"name\": \"장고 - 클래스 기반 뷰. 잘 알고 쓰기\",\\n        \"url\": \"https://nomade.kr/vod/cbv/\"\\n    },\\n    {\\n        \"name\": \"장고 - 결제 시스템 연동\",\\n        \"url\": \"https://nomade.kr/vod/payment/\"\\n    },\\n    {\\n        \"name\": \"장고 - 웹 프론트엔드 시작편\",\\n        \"url\": \"https://nomade.kr/vod/frontend/\"\\n    },\\n    {\\n        \"name\": \"장고 - 다양한 위젯 만들기\",\\n        \"url\": \"https://nomade.kr/vod/widgets/\"\\n    },\\n    {\\n        \"name\": \"장고 - API 서버 만들기 및 초간단 안드로이드 앱 만들기\",\\n        \"url\": \"https://nomade.kr/vod/apiserver/\"\\n    },\\n    {\\n        \"name\": \"장고 - 하이브리드 앱 만들기\",\\n        \"url\": \"https://nomade.kr/vod/hybrid/\"\\n    },\\n    {\\n        \"name\": \"장고 - 서비스 배포하기\",\\n        \"url\": \"https://nomade.kr/vod/deploy/\"\\n    },\\n    {\\n        \"name\": \"장고 - 실전편 (Feat. 배달의 민족 St. 만들기)\",\\n        \"url\": \"https://nomade.kr/vod/django-baemin/\"\\n    },\\n    {\\n        \"name\": \"장고 - 실전편 (Feat. 인스타그램 St. 만들기)\",\\n        \"url\": \"https://nomade.kr/vod/django-instagram/\"\\n    }\\n]\\n'"
      ]
     },
     "execution_count": 3,
     "metadata": {},
     "output_type": "execute_result"
    }
   ],
   "source": [
    "import requests\n",
    "\n",
    "data__json_url = 'https://askdjango.github.io/lv2/data.json'\n",
    "json_string = requests.get(data_json_url).text\n",
    "json_string"
   ]
  },
  {
   "cell_type": "code",
   "execution_count": 4,
   "metadata": {},
   "outputs": [
    {
     "data": {
      "text/plain": [
       "[{'name': '개발환경 구축하기', 'url': 'https://nomade.kr/vod/setup/'},\n",
       " {'name': '파이썬 차근차근 시작하기', 'url': 'https://nomade.kr/vod/python/'},\n",
       " {'name': '크롤링 차근차근 시작하기', 'url': 'https://nomade.kr/vod/crawling/'},\n",
       " {'name': '파이썬으로 업무 자동화', 'url': 'https://nomade.kr/vod/automation/'},\n",
       " {'name': '장고 - 기본편', 'url': 'https://nomade.kr/vod/django/'},\n",
       " {'name': '장고걸스 튜토리얼', 'url': 'https://nomade.kr/vod/djangogirls/'},\n",
       " {'name': '장고 - Form/ModelForm 잘 알고 쓰기', 'url': 'https://nomade.kr/vod/form/'},\n",
       " {'name': '장고 - 클래스 기반 뷰. 잘 알고 쓰기', 'url': 'https://nomade.kr/vod/cbv/'},\n",
       " {'name': '장고 - 결제 시스템 연동', 'url': 'https://nomade.kr/vod/payment/'},\n",
       " {'name': '장고 - 웹 프론트엔드 시작편', 'url': 'https://nomade.kr/vod/frontend/'},\n",
       " {'name': '장고 - 다양한 위젯 만들기', 'url': 'https://nomade.kr/vod/widgets/'},\n",
       " {'name': '장고 - API 서버 만들기 및 초간단 안드로이드 앱 만들기',\n",
       "  'url': 'https://nomade.kr/vod/apiserver/'},\n",
       " {'name': '장고 - 하이브리드 앱 만들기', 'url': 'https://nomade.kr/vod/hybrid/'},\n",
       " {'name': '장고 - 서비스 배포하기', 'url': 'https://nomade.kr/vod/deploy/'},\n",
       " {'name': '장고 - 실전편 (Feat. 배달의 민족 St. 만들기)',\n",
       "  'url': 'https://nomade.kr/vod/django-baemin/'},\n",
       " {'name': '장고 - 실전편 (Feat. 인스타그램 St. 만들기)',\n",
       "  'url': 'https://nomade.kr/vod/django-instagram/'}]"
      ]
     },
     "execution_count": 4,
     "metadata": {},
     "output_type": "execute_result"
    }
   ],
   "source": [
    "import json\n",
    "\n",
    "course_list = json.loads(json_string)  # json 문자열을 파이썬 list로 바꿀 수 있다.\n",
    "course_list"
   ]
  },
  {
   "cell_type": "code",
   "execution_count": 5,
   "metadata": {},
   "outputs": [
    {
     "data": {
      "text/plain": [
       "list"
      ]
     },
     "execution_count": 5,
     "metadata": {},
     "output_type": "execute_result"
    }
   ],
   "source": [
    "course_list.__class__"
   ]
  },
  {
   "cell_type": "code",
   "execution_count": 6,
   "metadata": {},
   "outputs": [
    {
     "data": {
      "text/plain": [
       "{'name': '개발환경 구축하기', 'url': 'https://nomade.kr/vod/setup/'}"
      ]
     },
     "execution_count": 6,
     "metadata": {},
     "output_type": "execute_result"
    }
   ],
   "source": [
    "course_list[0]"
   ]
  },
  {
   "cell_type": "code",
   "execution_count": 7,
   "metadata": {},
   "outputs": [
    {
     "data": {
      "text/plain": [
       "'개발환경 구축하기'"
      ]
     },
     "execution_count": 7,
     "metadata": {},
     "output_type": "execute_result"
    }
   ],
   "source": [
    "course_list[0]['name']"
   ]
  },
  {
   "cell_type": "code",
   "execution_count": 8,
   "metadata": {},
   "outputs": [
    {
     "name": "stdout",
     "output_type": "stream",
     "text": [
      "개발환경 구축하기 https://nomade.kr/vod/setup/\n",
      "파이썬 차근차근 시작하기 https://nomade.kr/vod/python/\n",
      "크롤링 차근차근 시작하기 https://nomade.kr/vod/crawling/\n",
      "파이썬으로 업무 자동화 https://nomade.kr/vod/automation/\n",
      "장고 - 기본편 https://nomade.kr/vod/django/\n",
      "장고걸스 튜토리얼 https://nomade.kr/vod/djangogirls/\n",
      "장고 - Form/ModelForm 잘 알고 쓰기 https://nomade.kr/vod/form/\n",
      "장고 - 클래스 기반 뷰. 잘 알고 쓰기 https://nomade.kr/vod/cbv/\n",
      "장고 - 결제 시스템 연동 https://nomade.kr/vod/payment/\n",
      "장고 - 웹 프론트엔드 시작편 https://nomade.kr/vod/frontend/\n",
      "장고 - 다양한 위젯 만들기 https://nomade.kr/vod/widgets/\n",
      "장고 - API 서버 만들기 및 초간단 안드로이드 앱 만들기 https://nomade.kr/vod/apiserver/\n",
      "장고 - 하이브리드 앱 만들기 https://nomade.kr/vod/hybrid/\n",
      "장고 - 서비스 배포하기 https://nomade.kr/vod/deploy/\n",
      "장고 - 실전편 (Feat. 배달의 민족 St. 만들기) https://nomade.kr/vod/django-baemin/\n",
      "장고 - 실전편 (Feat. 인스타그램 St. 만들기) https://nomade.kr/vod/django-instagram/\n"
     ]
    }
   ],
   "source": [
    "for course in course_list:\n",
    "    print(course['name'], course['url'])"
   ]
  },
  {
   "cell_type": "code",
   "execution_count": 9,
   "metadata": {},
   "outputs": [
    {
     "name": "stdout",
     "output_type": "stream",
     "text": [
      "개발환경 구축하기 https://nomade.kr/vod/setup/\n",
      "파이썬 차근차근 시작하기 https://nomade.kr/vod/python/\n",
      "크롤링 차근차근 시작하기 https://nomade.kr/vod/crawling/\n",
      "파이썬으로 업무 자동화 https://nomade.kr/vod/automation/\n",
      "장고 - 기본편 https://nomade.kr/vod/django/\n",
      "장고걸스 튜토리얼 https://nomade.kr/vod/djangogirls/\n",
      "장고 - Form/ModelForm 잘 알고 쓰기 https://nomade.kr/vod/form/\n",
      "장고 - 클래스 기반 뷰. 잘 알고 쓰기 https://nomade.kr/vod/cbv/\n",
      "장고 - 결제 시스템 연동 https://nomade.kr/vod/payment/\n",
      "장고 - 웹 프론트엔드 시작편 https://nomade.kr/vod/frontend/\n",
      "장고 - 다양한 위젯 만들기 https://nomade.kr/vod/widgets/\n",
      "장고 - API 서버 만들기 및 초간단 안드로이드 앱 만들기 https://nomade.kr/vod/apiserver/\n",
      "장고 - 하이브리드 앱 만들기 https://nomade.kr/vod/hybrid/\n",
      "장고 - 서비스 배포하기 https://nomade.kr/vod/deploy/\n",
      "장고 - 실전편 (Feat. 배달의 민족 St. 만들기) https://nomade.kr/vod/django-baemin/\n",
      "장고 - 실전편 (Feat. 인스타그램 St. 만들기) https://nomade.kr/vod/django-instagram/\n"
     ]
    }
   ],
   "source": [
    "for course in course_list:\n",
    "    print(\"{name} {url}\".format(**course))  # unpacking"
   ]
  },
  {
   "cell_type": "markdown",
   "metadata": {},
   "source": [
    "## [레벨3] 자바스크립트 렌더링 크롤링"
   ]
  },
  {
   "cell_type": "markdown",
   "metadata": {},
   "source": [
    "### 전체 코드"
   ]
  },
  {
   "cell_type": "code",
   "execution_count": 10,
   "metadata": {},
   "outputs": [
    {
     "name": "stdout",
     "output_type": "stream",
     "text": [
      "개발환경 구축하기 https://nomade.kr/vod/setup/\n",
      "파이썬 차근차근 시작하기 https://nomade.kr/vod/python/\n",
      "크롤링 차근차근 시작하기 https://nomade.kr/vod/crawling/\n",
      "파이썬으로 업무 자동화 https://nomade.kr/vod/automation/\n",
      "장고 - 기본편 https://nomade.kr/vod/django/\n",
      "장고걸스 튜토리얼 https://nomade.kr/vod/djangogirls/\n",
      "장고 - Form/ModelForm 잘 알고 쓰기 https://nomade.kr/vod/form/\n",
      "장고 - 클래스 기반 뷰. 잘 알고 쓰기 https://nomade.kr/vod/cbv/\n",
      "장고 - 결제 시스템 연동 https://nomade.kr/vod/payment/\n",
      "장고 - 웹 프론트엔드 시작편 https://nomade.kr/vod/frontend/\n",
      "장고 - 다양한 위젯 만들기 https://nomade.kr/vod/widgets/\n",
      "장고 - API 서버 만들기 및 초간단 안드로이드 앱 만들기 https://nomade.kr/vod/apiserver/\n",
      "장고 - 하이브리드 앱 만들기 https://nomade.kr/vod/hybrid/\n",
      "장고 - 서비스 배포하기 https://nomade.kr/vod/deploy/\n",
      "장고 - 실전편 (Feat. 배달의 민족 St. 만들기) https://nomade.kr/vod/django-baemin/\n",
      "장고 - 실전편 (Feat. 인스타그램 St. 만들기) https://nomade.kr/vod/django-instagram/\n"
     ]
    }
   ],
   "source": [
    "import json\n",
    "import re\n",
    "import requests\n",
    "\n",
    "import requests\n",
    "\n",
    "url = 'https://askdjango.github.io/lv3/'\n",
    "html = requests.get(url).text\n",
    "matched = re.search('var courses = (.+?);', html, re.S)  # (모든문자/하나이상/최소매칭), re.S옵션(개행포함\n",
    "json_string = matched.group(1)\n",
    "\n",
    "course_list = json.loads(json_string)\n",
    "for course in course_list:\n",
    "    print('{name} {url}'.format(**course))"
   ]
  },
  {
   "cell_type": "markdown",
   "metadata": {},
   "source": [
    "### 한 단계씩 보기\n",
    "- 페이지 소스 보기 > ul 태그 안이 비어있음\n",
    "- 개발자 도구 > Network 탭에 받아오는 데이터도 없음\n",
    "- 페이지 소스 보기 > 자바스크립트 부분에 데이터가 임베딩되어 있음."
   ]
  },
  {
   "cell_type": "code",
   "execution_count": 11,
   "metadata": {
    "collapsed": true
   },
   "outputs": [],
   "source": [
    "import requests\n",
    "\n",
    "url = 'https://askdjango.github.io/lv3/'\n",
    "html = requests.get(url).text"
   ]
  },
  {
   "cell_type": "markdown",
   "metadata": {},
   "source": [
    "#### 정규표현식 사용\n",
    "- search() 는 일부 문자열과 매칭 / match() 는 전체 문자열과 매칭시키고자 할 때 사용"
   ]
  },
  {
   "cell_type": "code",
   "execution_count": 12,
   "metadata": {
    "collapsed": true
   },
   "outputs": [],
   "source": [
    "import re\n",
    "\n",
    "re.search(r'var courses = (.+);', html)  # ()안의 부분이 내가 뽑아내고 싶은 문자열"
   ]
  },
  {
   "cell_type": "markdown",
   "metadata": {},
   "source": [
    "_(출력값이 아무것도 없다는 것은 None을 의미)_\n",
    "\n",
    "\n",
    "- python 3 re 검색 ([공식문서](https://docs.python.org/3/library/re.html))\n",
    "\n",
    "\n",
    "##### **re.S** _(re.DOTALL)_ 옵션 \n",
    "- _Make the '.' special character match any character at all, including a newline; without this flag, '.' will match anything except a newline._"
   ]
  },
  {
   "cell_type": "code",
   "execution_count": 13,
   "metadata": {},
   "outputs": [
    {
     "data": {
      "text/plain": [
       "<_sre.SRE_Match object; span=(245, 3294), match='var courses = [\\n        {\"name\": \"개발환경 구축하기\", \"u>"
      ]
     },
     "execution_count": 13,
     "metadata": {},
     "output_type": "execute_result"
    }
   ],
   "source": [
    "re.search(r'var courses = (.+);', html, re.S)  # re.S 옵션 추가"
   ]
  },
  {
   "cell_type": "code",
   "execution_count": 14,
   "metadata": {},
   "outputs": [],
   "source": [
    "mached = re.search(r'var courses = (.+);', html, re.S)"
   ]
  },
  {
   "cell_type": "code",
   "execution_count": 15,
   "metadata": {},
   "outputs": [
    {
     "name": "stdout",
     "output_type": "stream",
     "text": [
      "[\n",
      "        {\"name\": \"개발환경 구축하기\", \"url\": \"https://nomade.kr/vod/setup/\"},\n",
      "        {\"name\": \"파이썬 차근차근 시작하기\", \"url\": \"https://nomade.kr/vod/python/\"},\n",
      "        {\"name\": \"크롤링 차근차근 시작하기\", \"url\": \"https://nomade.kr/vod/crawling/\"},\n",
      "        {\"name\": \"파이썬으로 업무 자동화\", \"url\": \"https://nomade.kr/vod/automation/\"},\n",
      "        {\"name\": \"장고 - 기본편\", \"url\": \"https://nomade.kr/vod/django/\"},\n",
      "        {\"name\": \"장고걸스 튜토리얼\", \"url\": \"https://nomade.kr/vod/djangogirls/\"},\n",
      "        {\"name\": \"장고 - Form/ModelForm 잘 알고 쓰기\", \"url\": \"https://nomade.kr/vod/form/\"},\n",
      "        {\"name\": \"장고 - 클래스 기반 뷰. 잘 알고 쓰기\", \"url\": \"https://nomade.kr/vod/cbv/\"},\n",
      "        {\"name\": \"장고 - 결제 시스템 연동\", \"url\": \"https://nomade.kr/vod/payment/\"},\n",
      "        {\"name\": \"장고 - 웹 프론트엔드 시작편\", \"url\": \"https://nomade.kr/vod/frontend/\"},\n",
      "        {\"name\": \"장고 - 다양한 위젯 만들기\", \"url\": \"https://nomade.kr/vod/widgets/\"},\n",
      "        {\"name\": \"장고 - API 서버 만들기 및 초간단 안드로이드 앱 만들기\", \"url\": \"https://nomade.kr/vod/apiserver/\"},\n",
      "        {\"name\": \"장고 - 하이브리드 앱 만들기\", \"url\": \"https://nomade.kr/vod/hybrid/\"},\n",
      "        {\"name\": \"장고 - 서비스 배포하기\", \"url\": \"https://nomade.kr/vod/deploy/\"},\n",
      "        {\"name\": \"장고 - 실전편 (Feat. 배달의 민족 St. 만들기)\", \"url\": \"https://nomade.kr/vod/django-baemin/\"},\n",
      "        {\"name\": \"장고 - 실전편 (Feat. 인스타그램 St. 만들기)\", \"url\": \"https://nomade.kr/vod/django-instagram/\"}\n",
      "    ];\n",
      "    $.each(courses, function(idx, course) {\n",
      "        var html = '<li class=\"course\"><a href=\"' + course.url + '\">' + course.name + '</a></li>';\n",
      "        $('#course_list').append($(html));\n",
      "    });\n",
      "});\n",
      "</script>\n",
      "</head>\n",
      "<body>\n",
      "<h1>AskDjango VOD</h1>\n",
      "\n",
      "<h2>[레벨3] 자바스크립트 렌더링 크롤링</h2>\n",
      "\n",
      "<p>본 페이지는 Ajax를 통해 데이터를 받아와서, 자바스크립트로 컨텐츠가 추가됩니다.</p>\n",
      "\n",
      "<ul id=\"course_list\">\n",
      "</ul>\n",
      "\n",
      "<img src=\"https://nomade.kr/static/2017031408/nomadekr-og.jpg\" id=\"logo\" />\n",
      "\n",
      "<hr/>\n",
      "\n",
      "<h3>미션</h3>\n",
      "\n",
      "<ul>\n",
      "    <li>위 VOD 코스의 코스명과 URL을 크롤링</li>\n",
      "    <li>제약사항 : requests 라이브러리만을 사용하세요.</li>\n",
      "</ul>\n",
      "\n",
      "실행 예시\n",
      "\n",
      "<pre>\n",
      "    개발환경 구축하기 https://nomade.kr/vod/setup/\n",
      "    파이썬 차근차근 시작하기 https://nomade.kr/vod/python/\n",
      "    크롤링 차근차근 시작하기 https://nomade.kr/vod/crawling/\n",
      "    파이썬으로 업무 자동화 https://nomade.kr/vod/automation/\n",
      "    장고 - 기본편 https://nomade.kr/vod/django/\n",
      "    장고걸스 튜토리얼 https://nomade.kr/vod/djangogirls/\n",
      "    장고 - Form/ModelForm 잘 알고 쓰기 https://nomade.kr/vod/form/\n",
      "    장고 - 클래스 기반 뷰. 잘 알고 쓰기 https://nomade.kr/vod/cbv/\n",
      "    장고 - 결제 시스템 연동 https://nomade.kr/vod/payment/\n",
      "    장고 - 웹 프론트엔드 시작편 https://nomade.kr/vod/frontend/\n",
      "    장고 - 다양한 위젯 만들기 https://nomade.kr/vod/widgets/\n",
      "    장고 - API 서버 만들기 및 초간단 안드로이드 앱 만들기 https://nomade.kr/vod/apiserver/\n",
      "    장고 - 하이브리드 앱 만들기 https://nomade.kr/vod/hybrid/\n",
      "    장고 - 서비스 배포하기 https://nomade.kr/vod/deploy/\n",
      "    장고 - 실전편 (Feat. 배달의 민족 St. 만들기) https://nomade.kr/vod/django-baemin/\n",
      "    장고 - 실전편 (Feat. 인스타그램 St. 만들기) https://nomade.kr/vod/django-instagram/\n",
      "</pre>\n",
      "\n",
      "<p>AskDjango 크롤링 VOD를 통해 크롤링의 기본을 배우고, 꾸준히 크롤링을 연습해보세요.</p>\n",
      "\n",
      "<hr/>\n",
      "    <p><a href=\"/\">home</a></p>\n",
      "    <p>\n",
      "    여러분의 파이썬/장고 페이스메이커가 되겠습니다. &dash; <a href=\"https://nomade.kr/vod/\">AskDjango VOD</a>\n",
      "    </p>\n",
      "    <p>\n",
      "    &copy;\n",
      "    <script>document.write((new Date()).getYear() + 1900)\n"
     ]
    }
   ],
   "source": [
    "# mached.group(1)\n",
    "print(mached.group(1))"
   ]
  },
  {
   "cell_type": "markdown",
   "metadata": {},
   "source": [
    "_(소스 코드의 마지막 세미콜론(;)까지 매칭됨.. (패턴을 만족하는 가장 큰 범위까지 확장 매칭))_\n",
    "\n",
    "\n",
    "##### \"제일 처음에 만나는 세미콜론까지만 매칭하고 싶어.\"\n",
    "- 패턴에 ? 추가하여 **최소 매칭**"
   ]
  },
  {
   "cell_type": "code",
   "execution_count": 16,
   "metadata": {
    "collapsed": true
   },
   "outputs": [],
   "source": [
    "matched = re.search(r'var courses = (.+?);', html, re.S)  # 최소 매칭 (패턴의 횟수지정 뒤에 ? 추가)"
   ]
  },
  {
   "cell_type": "code",
   "execution_count": 17,
   "metadata": {},
   "outputs": [
    {
     "name": "stdout",
     "output_type": "stream",
     "text": [
      "[\n",
      "        {\"name\": \"개발환경 구축하기\", \"url\": \"https://nomade.kr/vod/setup/\"},\n",
      "        {\"name\": \"파이썬 차근차근 시작하기\", \"url\": \"https://nomade.kr/vod/python/\"},\n",
      "        {\"name\": \"크롤링 차근차근 시작하기\", \"url\": \"https://nomade.kr/vod/crawling/\"},\n",
      "        {\"name\": \"파이썬으로 업무 자동화\", \"url\": \"https://nomade.kr/vod/automation/\"},\n",
      "        {\"name\": \"장고 - 기본편\", \"url\": \"https://nomade.kr/vod/django/\"},\n",
      "        {\"name\": \"장고걸스 튜토리얼\", \"url\": \"https://nomade.kr/vod/djangogirls/\"},\n",
      "        {\"name\": \"장고 - Form/ModelForm 잘 알고 쓰기\", \"url\": \"https://nomade.kr/vod/form/\"},\n",
      "        {\"name\": \"장고 - 클래스 기반 뷰. 잘 알고 쓰기\", \"url\": \"https://nomade.kr/vod/cbv/\"},\n",
      "        {\"name\": \"장고 - 결제 시스템 연동\", \"url\": \"https://nomade.kr/vod/payment/\"},\n",
      "        {\"name\": \"장고 - 웹 프론트엔드 시작편\", \"url\": \"https://nomade.kr/vod/frontend/\"},\n",
      "        {\"name\": \"장고 - 다양한 위젯 만들기\", \"url\": \"https://nomade.kr/vod/widgets/\"},\n",
      "        {\"name\": \"장고 - API 서버 만들기 및 초간단 안드로이드 앱 만들기\", \"url\": \"https://nomade.kr/vod/apiserver/\"},\n",
      "        {\"name\": \"장고 - 하이브리드 앱 만들기\", \"url\": \"https://nomade.kr/vod/hybrid/\"},\n",
      "        {\"name\": \"장고 - 서비스 배포하기\", \"url\": \"https://nomade.kr/vod/deploy/\"},\n",
      "        {\"name\": \"장고 - 실전편 (Feat. 배달의 민족 St. 만들기)\", \"url\": \"https://nomade.kr/vod/django-baemin/\"},\n",
      "        {\"name\": \"장고 - 실전편 (Feat. 인스타그램 St. 만들기)\", \"url\": \"https://nomade.kr/vod/django-instagram/\"}\n",
      "    ]\n"
     ]
    }
   ],
   "source": [
    "print(matched.group(1))"
   ]
  },
  {
   "cell_type": "code",
   "execution_count": 18,
   "metadata": {
    "collapsed": true
   },
   "outputs": [],
   "source": [
    "json_string = matched.group(1)"
   ]
  },
  {
   "cell_type": "markdown",
   "metadata": {},
   "source": [
    "#### 원하는 json문자열을 획득했으니, 아래는 동일"
   ]
  },
  {
   "cell_type": "code",
   "execution_count": 19,
   "metadata": {},
   "outputs": [
    {
     "data": {
      "text/plain": [
       "[{'name': '개발환경 구축하기', 'url': 'https://nomade.kr/vod/setup/'},\n",
       " {'name': '파이썬 차근차근 시작하기', 'url': 'https://nomade.kr/vod/python/'},\n",
       " {'name': '크롤링 차근차근 시작하기', 'url': 'https://nomade.kr/vod/crawling/'},\n",
       " {'name': '파이썬으로 업무 자동화', 'url': 'https://nomade.kr/vod/automation/'},\n",
       " {'name': '장고 - 기본편', 'url': 'https://nomade.kr/vod/django/'},\n",
       " {'name': '장고걸스 튜토리얼', 'url': 'https://nomade.kr/vod/djangogirls/'},\n",
       " {'name': '장고 - Form/ModelForm 잘 알고 쓰기', 'url': 'https://nomade.kr/vod/form/'},\n",
       " {'name': '장고 - 클래스 기반 뷰. 잘 알고 쓰기', 'url': 'https://nomade.kr/vod/cbv/'},\n",
       " {'name': '장고 - 결제 시스템 연동', 'url': 'https://nomade.kr/vod/payment/'},\n",
       " {'name': '장고 - 웹 프론트엔드 시작편', 'url': 'https://nomade.kr/vod/frontend/'},\n",
       " {'name': '장고 - 다양한 위젯 만들기', 'url': 'https://nomade.kr/vod/widgets/'},\n",
       " {'name': '장고 - API 서버 만들기 및 초간단 안드로이드 앱 만들기',\n",
       "  'url': 'https://nomade.kr/vod/apiserver/'},\n",
       " {'name': '장고 - 하이브리드 앱 만들기', 'url': 'https://nomade.kr/vod/hybrid/'},\n",
       " {'name': '장고 - 서비스 배포하기', 'url': 'https://nomade.kr/vod/deploy/'},\n",
       " {'name': '장고 - 실전편 (Feat. 배달의 민족 St. 만들기)',\n",
       "  'url': 'https://nomade.kr/vod/django-baemin/'},\n",
       " {'name': '장고 - 실전편 (Feat. 인스타그램 St. 만들기)',\n",
       "  'url': 'https://nomade.kr/vod/django-instagram/'}]"
      ]
     },
     "execution_count": 19,
     "metadata": {},
     "output_type": "execute_result"
    }
   ],
   "source": [
    "import json\n",
    "\n",
    "course_list = json.loads(json_string)  # json문자열을 파이썬 list로 변환\n",
    "course_list"
   ]
  },
  {
   "cell_type": "code",
   "execution_count": 20,
   "metadata": {},
   "outputs": [
    {
     "name": "stdout",
     "output_type": "stream",
     "text": [
      "개발환경 구축하기 https://nomade.kr/vod/setup/\n",
      "파이썬 차근차근 시작하기 https://nomade.kr/vod/python/\n",
      "크롤링 차근차근 시작하기 https://nomade.kr/vod/crawling/\n",
      "파이썬으로 업무 자동화 https://nomade.kr/vod/automation/\n",
      "장고 - 기본편 https://nomade.kr/vod/django/\n",
      "장고걸스 튜토리얼 https://nomade.kr/vod/djangogirls/\n",
      "장고 - Form/ModelForm 잘 알고 쓰기 https://nomade.kr/vod/form/\n",
      "장고 - 클래스 기반 뷰. 잘 알고 쓰기 https://nomade.kr/vod/cbv/\n",
      "장고 - 결제 시스템 연동 https://nomade.kr/vod/payment/\n",
      "장고 - 웹 프론트엔드 시작편 https://nomade.kr/vod/frontend/\n",
      "장고 - 다양한 위젯 만들기 https://nomade.kr/vod/widgets/\n",
      "장고 - API 서버 만들기 및 초간단 안드로이드 앱 만들기 https://nomade.kr/vod/apiserver/\n",
      "장고 - 하이브리드 앱 만들기 https://nomade.kr/vod/hybrid/\n",
      "장고 - 서비스 배포하기 https://nomade.kr/vod/deploy/\n",
      "장고 - 실전편 (Feat. 배달의 민족 St. 만들기) https://nomade.kr/vod/django-baemin/\n",
      "장고 - 실전편 (Feat. 인스타그램 St. 만들기) https://nomade.kr/vod/django-instagram/\n"
     ]
    }
   ],
   "source": [
    "for course in course_list:\n",
    "#     print('{} {}'.format(course['name'], course['url']))\n",
    "    print('{name} {url}'.format(**course))"
   ]
  },
  {
   "cell_type": "code",
   "execution_count": null,
   "metadata": {
    "collapsed": true
   },
   "outputs": [],
   "source": []
  }
 ],
 "metadata": {
  "kernelspec": {
   "display_name": "Python 3",
   "language": "python",
   "name": "python3"
  },
  "language_info": {
   "codemirror_mode": {
    "name": "ipython",
    "version": 3
   },
   "file_extension": ".py",
   "mimetype": "text/x-python",
   "name": "python",
   "nbconvert_exporter": "python",
   "pygments_lexer": "ipython3",
   "version": "3.6.1"
  }
 },
 "nbformat": 4,
 "nbformat_minor": 2
}
