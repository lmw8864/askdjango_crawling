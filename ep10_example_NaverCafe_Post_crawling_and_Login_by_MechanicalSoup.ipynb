{
 "cells": [
  {
   "cell_type": "markdown",
   "metadata": {},
   "source": [
    "# 네이버 카페글 크롤링\n",
    "- Tip: 크롤링 대상이 모바일페이지를 제공해주면, 모바일페이지를 크롤링는게 훨씬 쉽습니다. (주소 앞에 'm.'만 붙이면 됨)"
   ]
  },
  {
   "cell_type": "markdown",
   "metadata": {},
   "source": [
    "## 1. requests & BeautifulSoup"
   ]
  },
  {
   "cell_type": "code",
   "execution_count": 1,
   "metadata": {
    "collapsed": true
   },
   "outputs": [],
   "source": [
    "import requests\n",
    "from bs4 import BeautifulSoup\n",
    "from urllib.parse import urljoin"
   ]
  },
  {
   "cell_type": "code",
   "execution_count": 2,
   "metadata": {
    "collapsed": true
   },
   "outputs": [],
   "source": [
    "list_url = 'https://m.cafe.naver.com/joonggonara'\n",
    "\n",
    "html = requests.get(list_url).text\n",
    "soup = BeautifulSoup(html, 'html.parser')"
   ]
  },
  {
   "cell_type": "code",
   "execution_count": 3,
   "metadata": {},
   "outputs": [
    {
     "name": "stdout",
     "output_type": "stream",
     "text": [
      "[공식앱] 삼성 A8 골드 팝니다 https://m.cafe.naver.com/ArticleRead.nhn?clubid=10050146&articleid=414281603&page=1&boardtype=L\n",
      "None\n",
      "살바토레 페라가모 시계 https://m.cafe.naver.com/ArticleRead.nhn?clubid=10050146&articleid=414281602&page=1&boardtype=L\n",
      "None\n",
      "대전직거래로 https://m.cafe.naver.com/ArticleRead.nhn?clubid=10050146&articleid=414281601&page=1&boardtype=L\n",
      "None\n",
      "여아가을옷130 한복7호신발은180 https://m.cafe.naver.com/ArticleRead.nhn?clubid=10050146&articleid=414281600&page=1&boardtype=L\n",
      "None\n",
      "설빙기프티콘판매 , 각종캐시매입 https://m.cafe.naver.com/ArticleRead.nhn?clubid=10050146&articleid=414281599&page=1&boardtype=L\n",
      "None\n",
      "웅진 땅친구 물친구,구석구석 숨어 있는 그림 속 이야기,수학도둑32,이모의 결혼식,아씨방 일곱동무,책학습만화,칼데콧 아너상수상 동화책,추천도서 등 팔아요. https://m.cafe.naver.com/ArticleRead.nhn?clubid=10050146&articleid=414281598&page=1&boardtype=L\n",
      "None\n",
      "i5 6600  cpu팝니다 https://m.cafe.naver.com/ArticleRead.nhn?clubid=10050146&articleid=414281597&page=1&boardtype=L\n",
      "None\n",
      "[렌탈]6개월 렌탈료 면제!! WD502A(W/P) 최신형 LG퓨리케어 ALL직수 슬림 스윙 냉온정수기 https://m.cafe.naver.com/ArticleRead.nhn?clubid=10050146&articleid=414281596&page=1&boardtype=L\n",
      "2,000원\n",
      "티아이포맨/정장,셋업(슈트) 상의(자켓)/L(100사이즈감)/가디건포함 https://m.cafe.naver.com/ArticleRead.nhn?clubid=10050146&articleid=414281595&page=1&boardtype=L\n",
      "None\n",
      "대구 삼성 뉴SM5신형 LE 진주색무사고 10년식 14만키로 무사고 730만 https://m.cafe.naver.com/ArticleRead.nhn?clubid=10050146&articleid=414281594&page=1&boardtype=L\n",
      "73,000원\n",
      "[서울] 12년식 티맥스530 팝니다 https://m.cafe.naver.com/ArticleRead.nhn?clubid=10050146&articleid=414281593&page=1&boardtype=L\n",
      "None\n",
      "남아140---------------(가을,겨울)------브랜드있는옷들입니다 https://m.cafe.naver.com/ArticleRead.nhn?clubid=10050146&articleid=414281592&page=1&boardtype=L\n",
      "None\n",
      "sk2선물/여행용(미스트캡증정)디올/랑콤 https://m.cafe.naver.com/ArticleRead.nhn?clubid=10050146&articleid=414281591&page=1&boardtype=L\n",
      "None\n",
      "(판매)가정용 철봉(평행봉겸용)팝니다. https://m.cafe.naver.com/ArticleRead.nhn?clubid=10050146&articleid=414281590&page=1&boardtype=L\n",
      "None\n",
      "벨500 텐트 저렴히팝니다 https://m.cafe.naver.com/ArticleRead.nhn?clubid=10050146&articleid=414281589&page=1&boardtype=L\n",
      "None\n",
      "장인가구 3인용 소파 팔아요 https://m.cafe.naver.com/ArticleRead.nhn?clubid=10050146&articleid=414281588&page=1&boardtype=L\n",
      "None\n",
      "남아130호 블루독,알로봇,갭 그리고 새상품도 많아요^^ 예쁘게 찍어올렸어요~ https://m.cafe.naver.com/ArticleRead.nhn?clubid=10050146&articleid=414281587&page=1&boardtype=L\n",
      "None\n",
      "[밀봉신품]Pebble 2 SE 페블2 se -7만원 https://m.cafe.naver.com/ArticleRead.nhn?clubid=10050146&articleid=414281586&page=1&boardtype=L\n",
      "2,222원\n",
      "오즈세컨 자수 자켓 https://m.cafe.naver.com/ArticleRead.nhn?clubid=10050146&articleid=414281585&page=1&boardtype=L\n",
      "None\n",
      "[창원] 빈폴 상의 마이/콤비 1만원에 급처합니다^^ https://m.cafe.naver.com/ArticleRead.nhn?clubid=10050146&articleid=414281584&page=1&boardtype=L\n",
      "None\n"
     ]
    }
   ],
   "source": [
    "for tag in soup.select('#articleListArea li'):\n",
    "    article_url = urljoin(list_url, tag.find('a')['href'])\n",
    "    article_title = tag.find(class_='tit').text.strip()\n",
    "#     article_title = tag.select_one('.tit').text.strip()  # 기능 동일\n",
    "    print(article_title, article_url)\n",
    "    \n",
    "    html = requests.get(article_url).text\n",
    "    article_soup = BeautifulSoup(html, 'html.parser')\n",
    "    \n",
    "    try:\n",
    "        price = article_soup.select('.product_name .price')[0].text\n",
    "    except IndexError:\n",
    "        price = None  # 로그인 해야만 접근 가능 or 가격정보가 없는 경우\n",
    "    \n",
    "    print(price)"
   ]
  },
  {
   "cell_type": "markdown",
   "metadata": {},
   "source": [
    "참고)\n",
    "- select( ) 는 모든 태그를 찾고, (-> list 반환)\n",
    "- select_one( ) 은 첫 번째 태그 하나만 찾음. (-> tag 반환)\n",
    "\n",
    "\n",
    "- find_all( ) 은 모든 태그를 찾고, (-> list 반환)\n",
    "- find( ) 는 첫 번째 태그 하나만 찾음. (-> tag 반환)\n",
    "\n",
    "\n",
    "=> 기능은 같은데, 문법이 다름."
   ]
  },
  {
   "cell_type": "markdown",
   "metadata": {},
   "source": [
    "_Tip)_ Network 탭 볼 때, XHR만 필터링해서 보면 편함.\n",
    "- XHR ([XMLHttpRequest](https://ko.wikipedia.org/wiki/XMLHttpRequest)): 웹 브라우저와 웹 서버 간에 메소드가 데이터를 전송하는 객체 폼의 API"
   ]
  },
  {
   "cell_type": "markdown",
   "metadata": {},
   "source": [
    "_Tip)_ Network 탭 > Form Data 볼 때, view source 누르면 get인자 형식으로 볼 수 있음.\n",
    "- POST 방식이지만, 주소 뒤에 ?get인자 추가해서 접속 가능한지 시도\n",
    "- 접속이 된다? -> params에 get인자를 담아서 get방식으로도 요청 가능"
   ]
  },
  {
   "cell_type": "markdown",
   "metadata": {},
   "source": [
    "### 활용코드) 아래 코드의 clubid(카페id), menuid(게시판id), 페이지 번호를 지정해서  활용 가능\n",
    "- 게시물 리스트 -> 게시물 조회\n",
    "- 응답을 파싱"
   ]
  },
  {
   "cell_type": "code",
   "execution_count": 4,
   "metadata": {},
   "outputs": [
    {
     "name": "stdout",
     "output_type": "stream",
     "text": [
      "라이젠 1700+아수스 X370 보드로 7700k+z270 보드 구합니다. https://m.cafe.naver.com/ArticleRead.nhn?clubid=10050146&articleid=414281641&page=1&boardtype=L\n",
      "2,000원\n",
      "[공식앱] 랑방 향수 에끌라 드 플레르 오드 퍼퓸 50ml https://m.cafe.naver.com/ArticleRead.nhn?clubid=10050146&articleid=414281640&page=1&boardtype=L\n",
      "None\n",
      "양가죽자켓 https://m.cafe.naver.com/ArticleRead.nhn?clubid=10050146&articleid=414281639&page=1&boardtype=L\n",
      "None\n",
      "skt 데이터 2기가 4500언빠르게 팝니다 https://m.cafe.naver.com/ArticleRead.nhn?clubid=10050146&articleid=414281638&page=1&boardtype=L\n",
      "None\n",
      "구글기프트카드 15.000원 https://m.cafe.naver.com/ArticleRead.nhn?clubid=10050146&articleid=414281637&page=1&boardtype=L\n",
      "13,000원\n",
      "준플 5차전 [10월14일(토)  롯데 NC ] 1루 내야필드 / 중앙상단 양도 https://m.cafe.naver.com/ArticleRead.nhn?clubid=10050146&articleid=414281636&page=1&boardtype=L\n",
      "70,000원\n",
      "게임용 투반 4G GTS450 1000G 신품케이스본체=>15만 [부산] https://m.cafe.naver.com/ArticleRead.nhn?clubid=10050146&articleid=414281635&page=1&boardtype=L\n",
      "150,000원\n",
      "플랙진 051  지오송지오 완판 코트 판매 https://m.cafe.naver.com/ArticleRead.nhn?clubid=10050146&articleid=414281634&page=1&boardtype=L\n",
      "None\n",
      "스토케 마이캐리어 아기띠 6만원 https://m.cafe.naver.com/ArticleRead.nhn?clubid=10050146&articleid=414281633&page=1&boardtype=L\n",
      "None\n",
      "브룩스브라더스 싱글 트렌치 코트 팝니다. https://m.cafe.naver.com/ArticleRead.nhn?clubid=10050146&articleid=414281632&page=1&boardtype=L\n",
      "None\n",
      "대형 에어컨 실외기 거치대 팝니다 https://m.cafe.naver.com/ArticleRead.nhn?clubid=10050146&articleid=414281631&page=1&boardtype=L\n",
      "None\n",
      "비비안웨스트우드 선글라스 구하라 선글라스 VW73603 https://m.cafe.naver.com/ArticleRead.nhn?clubid=10050146&articleid=414281630&page=1&boardtype=L\n",
      "50,000원\n",
      "이케아 방수요 스와들디자인 겉싸개 https://m.cafe.naver.com/ArticleRead.nhn?clubid=10050146&articleid=414281629&page=1&boardtype=L\n",
      "None\n",
      "마레베이비랩 팝니다 https://m.cafe.naver.com/ArticleRead.nhn?clubid=10050146&articleid=414281628&page=1&boardtype=L\n",
      "None\n",
      "부팅7초 GTX760 i5-3570 SSD120 본체 34만 진짜싸게 판매합니다 https://m.cafe.naver.com/ArticleRead.nhn?clubid=10050146&articleid=414281627&page=1&boardtype=L\n",
      "340,000원\n",
      "준플레이오프 4차전 3루 내야석 4연석 양도 합니다~ https://m.cafe.naver.com/ArticleRead.nhn?clubid=10050146&articleid=414281626&page=1&boardtype=L\n",
      "None\n",
      "베리떼 롱스테이 마블팩트 23호 https://m.cafe.naver.com/ArticleRead.nhn?clubid=10050146&articleid=414281625&page=1&boardtype=L\n",
      "None\n",
      "[공식앱] 여자코트 검정 네이비 브라운 3개 운포 10만원 https://m.cafe.naver.com/ArticleRead.nhn?clubid=10050146&articleid=414281624&page=1&boardtype=L\n",
      "None\n",
      "NUK(누크) 1단계 젓꼭지&노리개+케이스 (0~6개월)) https://m.cafe.naver.com/ArticleRead.nhn?clubid=10050146&articleid=414281623&page=1&boardtype=L\n",
      "10,000원\n",
      "멕시카나 후라이드 11000 / 치토스 치킨 14000 https://m.cafe.naver.com/ArticleRead.nhn?clubid=10050146&articleid=414281622&page=1&boardtype=L\n",
      "11,000원\n"
     ]
    }
   ],
   "source": [
    "params = {\n",
    "    'search.clubid': '10050146',\n",
    "    # 'search.menuid': '96',\n",
    "    'search.page': 1,\n",
    "}\n",
    "\n",
    "list_url = 'https://m.cafe.naver.com/ArticleAllListAjax.nhn'\n",
    "html = requests.get(list_url, params=params).text\n",
    "soup = BeautifulSoup(html, 'html.parser')\n",
    "for tag in soup.select('li'):\n",
    "    article_url = urljoin(list_url, tag.find('a')['href'])\n",
    "    article_title = tag.select_one('.tit').text.strip()\n",
    "    print(article_title, article_url)\n",
    "    \n",
    "    html = requests.get(article_url).text\n",
    "    article_soup = BeautifulSoup(html, 'html.parser')\n",
    "    \n",
    "    try:\n",
    "        price = article_soup.select('.product_name .price')[0].text\n",
    "    except IndexError:\n",
    "        price = None  # 로그인 해야만 접근 가능 or 가격정보가 없는 경우\n",
    "    \n",
    "    print(price)"
   ]
  },
  {
   "cell_type": "markdown",
   "metadata": {},
   "source": [
    "## 2. [MechanicalSoup](https://github.com/MechanicalSoup/MechanicalSoup)\n",
    "\n",
    "- 쿠키처리, redirect처리 등 지원\n",
    "- 설치 : pip3 install mechanicalsoup\n",
    "- 내부적으로 requests/beautifulsoup4를 사용"
   ]
  },
  {
   "cell_type": "raw",
   "metadata": {},
   "source": [
    "import mechanicalsoup\n",
    "\n",
    "browser = mechanicalsoup.StatefulBrowser()\n",
    "\n",
    "resp = browser.open('URL')\n",
    "resp.soup  # 응답을 통해 BeautifulSoup 객체 획득\n",
    "\n",
    "soup = browser.get_current_page()  # 현재 페이지의 BeautifulSoup 객체 획득"
   ]
  },
  {
   "cell_type": "markdown",
   "metadata": {},
   "source": [
    "### MechanicalSoup을 통한 로그인\n",
    "- **일반적인 방법**: requests를 통해 Username/Password 로그인을 시도\n",
    "- 네이버 로그인 페이지: https://nid.naver.com/nidlogin.login"
   ]
  },
  {
   "cell_type": "code",
   "execution_count": 5,
   "metadata": {},
   "outputs": [
    {
     "name": "stdout",
     "output_type": "stream",
     "text": [
      "Username : lmw8864\n",
      "Password : ········\n"
     ]
    }
   ],
   "source": [
    "from getpass import getpass\n",
    "\n",
    "username = input('Username : ')\n",
    "password = getpass('Password : ')"
   ]
  },
  {
   "cell_type": "code",
   "execution_count": 6,
   "metadata": {
    "collapsed": true
   },
   "outputs": [],
   "source": [
    "import mechanicalsoup\n",
    "\n",
    "browser = mechanicalsoup.StatefulBrowser()"
   ]
  },
  {
   "cell_type": "code",
   "execution_count": 7,
   "metadata": {},
   "outputs": [
    {
     "data": {
      "text/plain": [
       "<Response [200]>"
      ]
     },
     "execution_count": 7,
     "metadata": {},
     "output_type": "execute_result"
    }
   ],
   "source": [
    "browser.open('https://nid.naver.com/nidlogin.login')  # requests.get"
   ]
  },
  {
   "cell_type": "code",
   "execution_count": 8,
   "metadata": {},
   "outputs": [
    {
     "data": {
      "text/plain": [
       "<mechanicalsoup.form.Form at 0x10c0eac88>"
      ]
     },
     "execution_count": 8,
     "metadata": {},
     "output_type": "execute_result"
    }
   ],
   "source": [
    "browser.select_form('form#frmNIDLogin')  # 로그인 form 태그 찾기"
   ]
  },
  {
   "cell_type": "code",
   "execution_count": 9,
   "metadata": {},
   "outputs": [
    {
     "data": {
      "text/plain": [
       "<Response [200]>"
      ]
     },
     "execution_count": 9,
     "metadata": {},
     "output_type": "execute_result"
    }
   ],
   "source": [
    "browser['id'] = username  # <input ... name='id' ... >  ※주의: id속성 아니고 name속성\n",
    "browser['pw'] = password  # <input ... name='pw' ... >\n",
    "browser.submit_selected()  # 로그인 버튼 클릭"
   ]
  },
  {
   "cell_type": "code",
   "execution_count": 10,
   "metadata": {
    "collapsed": true
   },
   "outputs": [],
   "source": [
    "browser.launch_browser()  # 현재 받은 응답을 브라우저를 통해 확인할 수 있습니다."
   ]
  },
  {
   "cell_type": "markdown",
   "metadata": {},
   "source": [
    "#### 네이버는 requests를 통해 Username/Password 로그인을 시도하면, 보안에 취약한 방식으로 로그인을 시도했다며, 로그인 거부\n",
    "- 그럼 Selenium을 통해 웹브라우저 자동화를 해야하느냐?\n",
    "    - NO !!! 셀레늄은 너무 무거워..\n",
    "    - **일회용 로그인 번호**를 통해 로그인을 하면 로그인이 가능합니다.\n",
    "        - 모바일 네이버 앱 실행, 설정 > 네이버 계정 정보 > 일회용 로그인 번호 받기\n",
    "        - 네이버 일회용 로그인 번호 로그인 페이지: https://nid.naver.com/nidlogin.login?mode=number"
   ]
  },
  {
   "cell_type": "code",
   "execution_count": 11,
   "metadata": {},
   "outputs": [
    {
     "name": "stdout",
     "output_type": "stream",
     "text": [
      "Login number: ········\n"
     ]
    },
    {
     "data": {
      "text/plain": [
       "<Response [200]>"
      ]
     },
     "execution_count": 11,
     "metadata": {},
     "output_type": "execute_result"
    }
   ],
   "source": [
    "from getpass import getpass\n",
    "import mechanicalsoup\n",
    "\n",
    "disposable_num = getpass('Login number: ')  # 일회용 로그인 번호\n",
    "\n",
    "browser = mechanicalsoup.StatefulBrowser()\n",
    "browser.open('https://nid.naver.com/nidlogin.login?mode=number')  # requests.get\n",
    "browser.select_form('form#frmNIDLogin')  # 로그인 form 테그 찾기\n",
    "browser['key'] = disposable_num  # <input ... name='key' ... >\n",
    "browser.submit_selected()  # 로그인 버튼 클릭"
   ]
  },
  {
   "cell_type": "code",
   "execution_count": 12,
   "metadata": {
    "collapsed": true
   },
   "outputs": [],
   "source": [
    "browser.launch_browser()  # 확인"
   ]
  },
  {
   "cell_type": "markdown",
   "metadata": {},
   "source": [
    "### 로그인 성공했으니, 원하는 정보를 가져와 봅시다.\n",
    "- 활용코드의 requests와 soup 부분만 MechanicalSoup 문법으로 수정"
   ]
  },
  {
   "cell_type": "code",
   "execution_count": 13,
   "metadata": {},
   "outputs": [
    {
     "name": "stdout",
     "output_type": "stream",
     "text": [
      "코스트코 방수포 타프 https://m.cafe.naver.com/ArticleRead.nhn?clubid=10050146&articleid=414281872&page=1&boardtype=L\n",
      "None\n",
      "아이폰6s 정품가죽케이스(로즈 그레이) 판매합니다 https://m.cafe.naver.com/ArticleRead.nhn?clubid=10050146&articleid=414281871&page=1&boardtype=L\n",
      "None\n",
      "[공식앱] 아이패드 16기가 파우치 https://m.cafe.naver.com/ArticleRead.nhn?clubid=10050146&articleid=414281870&page=1&boardtype=L\n",
      "None\n",
      "SKT데이터 1기가 3,000원 /  2기가 6,000원 https://m.cafe.naver.com/ArticleRead.nhn?clubid=10050146&articleid=414281869&page=1&boardtype=L\n",
      "None\n",
      "베이비돌라푼젤 메리다 신디 리틀트윈스타 마이멜로디 https://m.cafe.naver.com/ArticleRead.nhn?clubid=10050146&articleid=414281868&page=1&boardtype=L\n",
      "None\n",
      "삼성완전 평면 TV(CT-29A5P)팝니다. https://m.cafe.naver.com/ArticleRead.nhn?clubid=10050146&articleid=414281867&page=1&boardtype=L\n",
      "None\n",
      "(개인) 신차같은 라세티 프리미엄1.6 오토 가솔린 판매 합니다 https://m.cafe.naver.com/ArticleRead.nhn?clubid=10050146&articleid=414281866&page=1&boardtype=L\n",
      "None\n",
      "테그호이어 아쿠아 레이서  WAP1450 BD0837 https://m.cafe.naver.com/ArticleRead.nhn?clubid=10050146&articleid=414281865&page=1&boardtype=L\n",
      "None\n",
      "2인용 대리석식탁 판매합니다. https://m.cafe.naver.com/ArticleRead.nhn?clubid=10050146&articleid=414281864&page=1&boardtype=L\n",
      "None\n",
      "아디다스 에이스 16.2 HG 285 판매해요 https://m.cafe.naver.com/ArticleRead.nhn?clubid=10050146&articleid=414281863&page=1&boardtype=L\n",
      "None\n",
      "[공식앱] 청바지 처분합니다 3 https://m.cafe.naver.com/ArticleRead.nhn?clubid=10050146&articleid=414281862&page=1&boardtype=L\n",
      "None\n",
      "PS4 언차티드 한정 번들팩 팝니다.(새제품) https://m.cafe.naver.com/ArticleRead.nhn?clubid=10050146&articleid=414281861&page=1&boardtype=L\n",
      "280,000원\n",
      "(미사용 새제품)지오다노 ABS캐리어 pgd-1039 20인치,24인치,28인치 https://m.cafe.naver.com/ArticleRead.nhn?clubid=10050146&articleid=414281860&page=1&boardtype=L\n",
      "None\n",
      "오딧세이 화이트핫 #6 34인치 판매합니다 https://m.cafe.naver.com/ArticleRead.nhn?clubid=10050146&articleid=414281859&page=1&boardtype=L\n",
      "60,000원\n",
      "안녕하세요! 중고나라 앱을 통해 가입한 새로운 멤버입니다. https://m.cafe.naver.com/ArticleRead.nhn?clubid=10050146&articleid=414281858&page=1&boardtype=L\n",
      "None\n",
      "엘지벽걸이냉난방기11평 좋은제품1대 싸게설치판매합니다 https://m.cafe.naver.com/ArticleRead.nhn?clubid=10050146&articleid=414281857&page=1&boardtype=L\n",
      "None\n",
      "(새제품)랑콤 비비 컴플리트 30ml 디올스킨 포에버 컴팩트 파운데이션 21호 https://m.cafe.naver.com/ArticleRead.nhn?clubid=10050146&articleid=414281856&page=1&boardtype=L\n",
      "None\n",
      "블루투스 넥밴드 이어폰 hbs910 급처 https://m.cafe.naver.com/ArticleRead.nhn?clubid=10050146&articleid=414281855&page=1&boardtype=L\n",
      "None\n",
      "반스 스타일 36 판매합니다 [260] https://m.cafe.naver.com/ArticleRead.nhn?clubid=10050146&articleid=414281854&page=1&boardtype=L\n",
      "None\n",
      "[급매] 정품 마르셀로불론 맨투맨(xs 90~95사이즈) 저렴하게 드려요~(가격내림) https://m.cafe.naver.com/ArticleRead.nhn?clubid=10050146&articleid=414281853&page=1&boardtype=L\n",
      "140,000원\n"
     ]
    }
   ],
   "source": [
    "params = {\n",
    "    'search.clubid': '10050146',\n",
    "    # 'search.menuid': '96',\n",
    "    'search.page': 1,\n",
    "}\n",
    "\n",
    "list_url = 'https://m.cafe.naver.com/ArticleAllListAjax.nhn'\n",
    "\n",
    "# html = requests.get(list_url, params=params).text\n",
    "# soup = BeautifulSoup(html, 'html.parser')\n",
    "\n",
    "soup = browser.open(list_url, params=params).soup  # .soup : BeautifulSoup 객체 획득\n",
    "\n",
    "for tag in soup.select('li'):\n",
    "    article_url = urljoin(list_url, tag.find('a')['href'])\n",
    "    article_title = tag.select_one('.tit').text.strip()\n",
    "    print(article_title, article_url)\n",
    "    \n",
    "    # html = requests.get(article_url).text\n",
    "    # article_soup = BeautifulSoup(html, 'html.parser')\n",
    "\n",
    "    article_soup = browser.open(article_url).soup\n",
    "    \n",
    "    try:\n",
    "        price = article_soup.select('.product_name .price')[0].text\n",
    "    except IndexError:\n",
    "        price = None  # 가격 정보가 없는 경우\n",
    "    \n",
    "    print(price)"
   ]
  },
  {
   "cell_type": "markdown",
   "metadata": {},
   "source": [
    "_( 참고로 나는 중고나라 카페 멤버가 아니라서 None이 많이 나오는 것.. )_"
   ]
  }
 ],
 "metadata": {
  "kernelspec": {
   "display_name": "Python 3",
   "language": "python",
   "name": "python3"
  },
  "language_info": {
   "codemirror_mode": {
    "name": "ipython",
    "version": 3
   },
   "file_extension": ".py",
   "mimetype": "text/x-python",
   "name": "python",
   "nbconvert_exporter": "python",
   "pygments_lexer": "ipython3",
   "version": "3.6.1"
  }
 },
 "nbformat": 4,
 "nbformat_minor": 2
}
